{
 "cells": [
  {
   "cell_type": "code",
   "execution_count": 1,
   "id": "7e988801",
   "metadata": {},
   "outputs": [],
   "source": [
    "# import các thư viện cần thiết\n",
    "import zipfile\n",
    "import numpy as np\n",
    "import random\n",
    "import seaborn as sns\n",
    "from sklearn.decomposition import PCA\n",
    "import matplotlib.pyplot as plt\n",
    "from mpl_toolkits.mplot3d import Axes3D\n",
    "from matplotlib.colors import ListedColormap\n",
    "from sklearn.cluster import KMeans\n",
    "from sklearn.metrics import accuracy_score, confusion_matrix, precision_score, recall_score, classification_report\n",
    "import tensorflow as tf\n",
    "from tensorflow.keras.models import Sequential\n",
    "from tensorflow.keras.layers import Conv2D, MaxPooling2D, Flatten, Dense, Dropout\n",
    "from tensorflow import keras\n",
    "from tensorflow.keras.preprocessing.image import load_img, img_to_array\n",
    "import matplotlib.pyplot as plt\n",
    "from scipy.spatial.distance import cdist\n",
    "from sklearn.model_selection import train_test_split\n",
    "import pandas as pd"
   ]
  },
  {
   "cell_type": "code",
   "execution_count": 2,
   "id": "d472c29f",
   "metadata": {},
   "outputs": [],
   "source": [
    "# Đọc dữ liệu từ tệp ZIP và lưu vào DataFrame.\n",
    "df = pd.read_csv('C:/Users/ACER/Downloads/data.zip')"
   ]
  },
  {
   "cell_type": "code",
   "execution_count": 3,
   "id": "70884a7f",
   "metadata": {},
   "outputs": [],
   "source": [
    "# Tạo một danh sách (list) để chứa dữ liệu từ DataFrame.\n",
    "data_list = []\n",
    "# Duyệt qua từng hàng của DataFrame df.\n",
    "for index, row in df.iterrows():\n",
    "    # Chuyển đổi hàng thành danh sách và thêm vào danh sách data_list.\n",
    "    data_list.append(row.tolist())"
   ]
  },
  {
   "cell_type": "code",
   "execution_count": 4,
   "id": "9f0edf6a",
   "metadata": {},
   "outputs": [
    {
     "name": "stdout",
     "output_type": "stream",
     "text": [
      "372450\n"
     ]
    }
   ],
   "source": [
    "# In ra độ dài của danh sách data_list.\n",
    "print(len(data_list))"
   ]
  },
  {
   "cell_type": "code",
   "execution_count": 5,
   "id": "e32e81fd",
   "metadata": {},
   "outputs": [
    {
     "name": "stdout",
     "output_type": "stream",
     "text": [
      "(785,)\n"
     ]
    }
   ],
   "source": [
    "# In ra kích thước của phần tử thứ 100,000 trong danh sách data_list.\n",
    "print(np.shape(data_list[100000]))"
   ]
  },
  {
   "cell_type": "code",
   "execution_count": 6,
   "id": "f0689299",
   "metadata": {
    "scrolled": true
   },
   "outputs": [
    {
     "name": "stdout",
     "output_type": "stream",
     "text": [
      "[11, 0, 0, 0, 0, 0, 0, 0, 0, 0, 0, 0, 0, 0, 0, 0, 0, 0, 0, 0, 0, 0, 0, 0, 0, 0, 0, 0, 0, 0, 0, 0, 0, 0, 0, 0, 0, 0, 0, 0, 0, 0, 0, 0, 0, 0, 0, 0, 0, 0, 0, 0, 0, 0, 0, 0, 0, 0, 0, 0, 0, 0, 0, 0, 0, 0, 0, 0, 0, 0, 0, 0, 0, 0, 0, 0, 0, 0, 0, 0, 0, 0, 0, 0, 0, 0, 0, 0, 0, 0, 0, 0, 0, 0, 0, 0, 0, 0, 0, 0, 0, 0, 0, 0, 0, 0, 0, 0, 0, 0, 0, 0, 0, 0, 0, 0, 0, 0, 0, 0, 255, 85, 0, 0, 0, 0, 0, 0, 0, 0, 0, 0, 0, 0, 0, 0, 0, 0, 0, 0, 0, 0, 0, 0, 0, 0, 0, 0, 255, 213, 15, 0, 0, 0, 0, 0, 0, 0, 0, 0, 0, 0, 0, 0, 0, 0, 0, 0, 0, 0, 0, 0, 0, 0, 0, 0, 189, 255, 33, 0, 0, 0, 0, 0, 0, 0, 0, 0, 0, 0, 0, 0, 0, 0, 0, 0, 0, 0, 0, 0, 0, 0, 0, 0, 177, 255, 57, 0, 0, 0, 0, 0, 0, 0, 0, 0, 0, 0, 0, 0, 0, 0, 0, 0, 0, 0, 0, 0, 0, 0, 0, 0, 177, 255, 111, 0, 0, 0, 0, 0, 0, 0, 0, 0, 0, 0, 0, 0, 0, 0, 0, 0, 0, 0, 0, 0, 0, 0, 0, 0, 142, 255, 111, 0, 0, 0, 0, 0, 0, 0, 0, 0, 0, 0, 0, 0, 0, 0, 0, 0, 0, 0, 0, 0, 0, 0, 0, 0, 100, 255, 177, 0, 0, 0, 0, 0, 0, 0, 0, 0, 0, 0, 0, 0, 0, 0, 0, 0, 0, 0, 0, 0, 0, 0, 0, 0, 28, 255, 229, 7, 0, 0, 0, 0, 0, 0, 0, 0, 0, 0, 0, 0, 0, 0, 0, 0, 0, 0, 0, 0, 0, 0, 0, 0, 14, 234, 255, 11, 0, 0, 0, 0, 0, 0, 0, 0, 0, 0, 0, 0, 0, 0, 0, 0, 0, 0, 0, 0, 0, 0, 0, 0, 0, 200, 255, 23, 0, 0, 0, 0, 0, 0, 0, 0, 0, 0, 0, 0, 0, 0, 0, 0, 0, 0, 0, 0, 0, 0, 0, 0, 0, 200, 255, 130, 0, 0, 0, 0, 0, 0, 0, 0, 0, 0, 0, 0, 0, 0, 0, 0, 0, 0, 0, 0, 0, 0, 0, 0, 0, 104, 255, 214, 0, 0, 0, 0, 0, 0, 0, 0, 0, 0, 0, 0, 0, 0, 0, 0, 0, 0, 0, 0, 0, 0, 0, 0, 0, 27, 242, 244, 0, 0, 0, 0, 0, 0, 0, 0, 0, 0, 0, 0, 0, 0, 0, 0, 0, 0, 0, 0, 0, 0, 0, 0, 0, 0, 222, 244, 0, 0, 0, 0, 0, 0, 0, 0, 0, 0, 0, 0, 0, 0, 0, 0, 0, 0, 0, 0, 0, 0, 0, 0, 0, 0, 222, 244, 0, 0, 0, 0, 0, 0, 0, 0, 0, 0, 0, 0, 0, 0, 0, 0, 0, 0, 0, 0, 0, 0, 0, 0, 0, 0, 222, 244, 0, 0, 0, 0, 0, 0, 0, 0, 0, 0, 0, 0, 0, 0, 0, 0, 0, 0, 0, 0, 0, 0, 0, 0, 0, 0, 222, 248, 40, 20, 20, 50, 61, 64, 98, 50, 98, 50, 0, 0, 0, 0, 0, 0, 0, 0, 0, 0, 0, 0, 0, 0, 0, 0, 210, 255, 255, 255, 255, 255, 255, 255, 255, 255, 255, 255, 0, 0, 0, 0, 0, 0, 0, 0, 0, 0, 0, 0, 0, 0, 0, 0, 126, 255, 255, 255, 255, 255, 255, 255, 255, 255, 255, 255, 0, 0, 0, 0, 0, 0, 0, 0, 0, 0, 0, 0, 0, 0, 0, 0, 26, 173, 177, 200, 177, 177, 177, 108, 98, 98, 98, 74, 0, 0, 0, 0, 0, 0, 0, 0, 0, 0, 0, 0, 0, 0, 0, 0, 0, 0, 0, 0, 0, 0, 0, 0, 0, 0, 0, 0, 0, 0, 0, 0, 0, 0, 0, 0, 0, 0, 0, 0, 0, 0, 0, 0, 0, 0, 0, 0, 0, 0, 0, 0, 0, 0, 0, 0, 0, 0, 0, 0, 0, 0, 0, 0, 0, 0, 0, 0, 0, 0, 0, 0, 0, 0, 0, 0, 0, 0, 0, 0, 0, 0, 0, 0, 0, 0, 0, 0, 0, 0, 0, 0, 0, 0, 0, 0, 0, 0, 0, 0, 0, 0, 0, 0, 0, 0, 0, 0, 0, 0, 0, 0, 0, 0, 0, 0, 0, 0, 0]\n"
     ]
    },
    {
     "data": {
      "text/plain": [
       "<matplotlib.image.AxesImage at 0x1880632f070>"
      ]
     },
     "execution_count": 6,
     "metadata": {},
     "output_type": "execute_result"
    },
    {
     "data": {
      "image/png": "[encoded data removed]",
      "text/plain": [
       "<Figure size 640x480 with 1 Axes>"
      ]
     },
     "metadata": {},
     "output_type": "display_data"
    }
   ],
   "source": [
    "# Lấy dữ liệu tại hàng thứ 100,000 từ danh sách data_list và lưu vào biến letter.\n",
    "letter = data_list[100000]\n",
    "\n",
    "# Chuyển đổi chuỗi các số thành mảng NumPy, loại bỏ ký tự đầu (label), và định hình thành mảng 2D (28x28).\n",
    "x = np.array([int(j) for j in letter[1:]])\n",
    "x = x.reshape(28, 28)\n",
    "\n",
    "# In ra dữ liệu và hiển thị hình ảnh của biểu đồ số học.\n",
    "print(letter)\n",
    "plt.imshow(x)"
   ]
  },
  {
   "cell_type": "code",
   "execution_count": 7,
   "id": "cd8945e0",
   "metadata": {},
   "outputs": [],
   "source": [
    "# Tạo danh sách data chứa dữ liệu từ data_list (bỏ đi ký tự đầu tiên).\n",
    "data = [row[1:] for row in data_list]\n",
    "\n",
    "# Tạo danh sách label chứa nhãn từ data_list (chỉ lấy ký tự đầu tiên).\n",
    "label = [row[0] for row in data_list]"
   ]
  },
  {
   "cell_type": "code",
   "execution_count": 8,
   "id": "0fc56577",
   "metadata": {
    "scrolled": true
   },
   "outputs": [
    {
     "name": "stdout",
     "output_type": "stream",
     "text": [
      "372450\n"
     ]
    }
   ],
   "source": [
    "# In ra số lượng nhãn trong tập dữ liệu.\n",
    "print(len(label))"
   ]
  },
  {
   "cell_type": "code",
   "execution_count": 9,
   "id": "3ebd07d5",
   "metadata": {},
   "outputs": [],
   "source": [
    "# Sử dụng hàm train_test_split để chia tập dữ liệu thành tập huấn luyện và tập kiểm tra.\n",
    "# - data: Dữ liệu (features) cần chia\n",
    "# - label: Nhãn (labels) tương ứng với dữ liệu\n",
    "# - train_size=0.8: Chia dữ liệu sao cho 80% dữ liệu dành cho tập huấn luyện\n",
    "# - shuffle=True: Xáo trộn dữ liệu trước khi chia\n",
    "X_train, X_test, y_train, y_test = train_test_split(data, label, train_size=0.8, shuffle=True)"
   ]
  },
  {
   "cell_type": "code",
   "execution_count": 10,
   "id": "727cacc4",
   "metadata": {},
   "outputs": [],
   "source": [
    "# Chuyển đổi kích thước dữ liệu ảnh thành 4D (số mẫu, chiều cao, chiều rộng, số kênh).\n",
    "X_train = np.array(X_train)\n",
    "X_test = np.array(X_test)\n",
    "train_images_reshape = X_train.reshape(-1, 28, 28, 1)\n",
    "val_images_reshape = X_test.reshape(-1, 28, 28, 1)"
   ]
  },
  {
   "cell_type": "code",
   "execution_count": 11,
   "id": "5f95051c",
   "metadata": {},
   "outputs": [],
   "source": [
    "# Chuyển đổi nhãn thành one-hot encoding.\n",
    "train_labels_onehot = tf.keras.utils.to_categorical(y_train)\n",
    "val_labels_onehot = tf.keras.utils.to_categorical(y_test)"
   ]
  },
  {
   "cell_type": "code",
   "execution_count": 12,
   "id": "352e861d",
   "metadata": {},
   "outputs": [],
   "source": [
    "# Xây dựng mô hình CNN.\n",
    "model = Sequential()"
   ]
  },
  {
   "cell_type": "code",
   "execution_count": 13,
   "id": "537dcc11",
   "metadata": {},
   "outputs": [],
   "source": [
    "# Định nghĩa kiến trúc mạng CNN\n",
    "\n",
    "# Tầng tích chập 1\n",
    "model.add(Conv2D(32, kernel_size=(3, 3), activation='relu', input_shape=(28, 28, 1)))\n",
    "model.add(MaxPooling2D(pool_size=(2, 2)))\n",
    "# Lớp tích chập đầu tiên với 32 bộ lọc 3x3 và kích hoạt ReLU, đầu vào có kích thước 28x28x1.\n",
    "# Sau đó, lớp tối ưu hóa MaxPooling với cửa sổ 2x2 giúp giảm kích thước đầu ra.\n",
    "\n",
    "# Tầng tích chập 2\n",
    "model.add(Conv2D(64, kernel_size=(3, 3), activation='relu'))\n",
    "model.add(MaxPooling2D(pool_size=(2, 2)))\n",
    "# Lớp tích chập thứ hai với 64 bộ lọc 3x3 và kích hoạt ReLU.\n",
    "# Lớp tối ưu hóa MaxPooling tiếp tục được sử dụng.\n",
    "\n",
    "# Tầng tích chập 3\n",
    "model.add(Conv2D(128, kernel_size=(3, 3), activation='relu'))\n",
    "model.add(MaxPooling2D(pool_size=(2, 2)))\n",
    "# Lớp tích chập thứ ba với 128 bộ lọc 3x3 và kích hoạt ReLU.\n",
    "# Lớp tối ưu hóa MaxPooling tiếp tục được sử dụng."
   ]
  },
  {
   "cell_type": "code",
   "execution_count": 14,
   "id": "a98027b6",
   "metadata": {},
   "outputs": [],
   "source": [
    "# Dàn phẳng (flatten) dữ liệu trước khi đưa vào fully connected layers\n",
    "model.add(Flatten())\n",
    "\n",
    "# Tầng fully connected 1\n",
    "model.add(Dense(256, activation='relu'))\n",
    "model.add(Dropout(0.25))\n",
    "# Lớp fully connected đầu tiên với 256 đơn vị và kích hoạt ReLU.\n",
    "# Lớp Dropout với tỷ lệ 0.25 giúp ngăn chặn overfitting bằng cách tắt ngẫu nhiên một số đơn vị trong quá trình huấn luyện.\n",
    "\n",
    "# Tầng fully connected 2\n",
    "model.add(Dense(128, activation='relu'))\n",
    "model.add(Dropout(0.25))\n",
    "# Lớp fully connected thứ hai với 128 đơn vị và kích hoạt ReLU.\n",
    "# Lớp Dropout thứ hai với tỷ lệ 0.25 để ngăn chặn overfitting.\n",
    "\n",
    "# Tầng đầu ra với softmax\n",
    "model.add(Dense(26, activation='softmax'))\n",
    "# Lớp fully connected cuối cùng với 26 đơn vị (tương ứng với số lớp dữ liệu) và kích hoạt softmax để đưa ra xác suất phân loại.\n"
   ]
  },
  {
   "cell_type": "code",
   "execution_count": null,
   "id": "addd9161",
   "metadata": {},
   "outputs": [
    {
     "name": "stdout",
     "output_type": "stream",
     "text": [
      "Epoch 1/10\n",
      "2328/2328 [==============================] - 194s 82ms/step - loss: 0.3376 - accuracy: 0.9101\n",
      "Epoch 2/10\n",
      "2328/2328 [==============================] - 164s 71ms/step - loss: 0.1169 - accuracy: 0.9680\n",
      "Epoch 3/10\n",
      "2328/2328 [==============================] - 141s 60ms/step - loss: 0.0931 - accuracy: 0.9746\n",
      "Epoch 4/10\n",
      "2328/2328 [==============================] - 136s 58ms/step - loss: 0.0816 - accuracy: 0.9776\n",
      "Epoch 5/10\n",
      "2328/2328 [==============================] - 141s 60ms/step - loss: 0.0728 - accuracy: 0.9800\n",
      "Epoch 6/10\n",
      "2328/2328 [==============================] - 133s 57ms/step - loss: 0.0656 - accuracy: 0.9821\n",
      "Epoch 7/10\n",
      "2328/2328 [==============================] - 126s 54ms/step - loss: 0.0594 - accuracy: 0.9837\n",
      "Epoch 8/10\n",
      "2328/2328 [==============================] - 132s 57ms/step - loss: 0.0577 - accuracy: 0.9843\n",
      "Epoch 9/10\n",
      "2328/2328 [==============================] - 128s 55ms/step - loss: 0.0542 - accuracy: 0.9851\n",
      "Epoch 10/10\n",
      "1718/2328 [=====================>........] - ETA: 32s - loss: 0.0488 - accuracy: 0.9862"
     ]
    }
   ],
   "source": [
    "# Compile và huấn luyện mô hình\n",
    "model.compile(loss='categorical_crossentropy', optimizer='adam', metrics=['accuracy'])\n",
    "model.fit(train_images_reshape, train_labels_onehot, batch_size=128, epochs=10, verbose=1)"
   ]
  },
  {
   "cell_type": "code",
   "execution_count": null,
   "id": "d8af18b9",
   "metadata": {},
   "outputs": [],
   "source": [
    "# Đánh giá mô hình trên dữ liệu validation\n",
    "val_pred_cnn = np.argmax(model.predict(val_images_reshape), axis=-1)"
   ]
  },
  {
   "cell_type": "code",
   "execution_count": null,
   "id": "6b4fb0b4",
   "metadata": {},
   "outputs": [],
   "source": [
    "# Hiển thị các kết quả\n",
    "plt.figure(figsize=(10,8), dpi=200)\n",
    "sns.set(font_scale = 0.5)\n",
    "ax = sns.heatmap(confusion_matrix(y_test, val_pred_cnn), annot=True, fmt='d', )\n",
    "ax.set_xlabel(\"Predicted Label\", fontsize=14, labelpad=20)\n",
    "ax.set_ylabel(\"True Label\", fontsize=14, labelpad=20)\n",
    "ax.set_title(\"Confusion Matrix\", fontsize=14, pad=20)\n",
    "plt.show()\n",
    "print(\"Accuracy (CNN):\", accuracy_score(y_test, val_pred_cnn))\n",
    "print(\"Precision (CNN):\", precision_score(y_test, val_pred_cnn, average='macro'))\n",
    "print(\"Recall (CNN):\", recall_score(y_test, val_pred_cnn, average='macro'))\n",
    "print(classification_report(y_test, val_pred_cnn))"
   ]
  }
 ],
 "metadata": {
  "kernelspec": {
   "display_name": "Python 3 (ipykernel)",
   "language": "python",
   "name": "python3"
  },
  "language_info": {
   "codemirror_mode": {
    "name": "ipython",
    "version": 3
   },
   "file_extension": ".py",
   "mimetype": "text/x-python",
   "name": "python",
   "nbconvert_exporter": "python",
   "pygments_lexer": "ipython3",
   "version": "3.9.18"
  }
 },
 "nbformat": 4,
 "nbformat_minor": 5
}
